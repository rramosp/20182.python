{
 "cells": [
  {
   "cell_type": "markdown",
   "metadata": {},
   "source": [
    "# Pandas: ProblemSet"
   ]
  },
  {
   "cell_type": "code",
   "execution_count": null,
   "metadata": {},
   "outputs": [],
   "source": [
    "from mooclib import *\n",
    "import inspect, urllib\n",
    "\n",
    "html, auth_code, userinfo = google_authenticate(PORT_NUMBER=8080)\n",
    "html"
   ]
  },
  {
   "cell_type": "markdown",
   "metadata": {},
   "source": [
    "## Problema 1\n",
    "\n",
    "Usando el set `PS4_1.csv`, convertir la serie `Date` en el indice (serie de tiempo) y eliminar la serie `Unnamed: 1` (generado por pandas), retornar en una lista y en el siguiente orden:\n",
    "* número de registros\n",
    "* cantidad de columnas\n",
    "* nombre de la columna con menos datos que los demás \n",
    "* cantidad total de memoria usada para cargar el set en el computador \n",
    "* el maximo valor para `Maisonneuve_1`\n"
   ]
  },
  {
   "cell_type": "code",
   "execution_count": 1,
   "metadata": {},
   "outputs": [
    {
     "name": "stdout",
     "output_type": "stream",
     "text": [
      "Date,,Berri1,Maisonneuve_1,Maisonneuve_2,Brebeuf\r\n",
      "01/01/2009,00:00,29,20,35,\r\n",
      "02/01/2009,00:00,19,3,22,\r\n",
      "03/01/2009,00:00,24,12,22,\r\n",
      "04/01/2009,00:00,24,8,15,\r\n",
      "05/01/2009,00:00,120,111,141,\r\n",
      "06/01/2009,00:00,261,146,236,\r\n",
      "07/01/2009,00:00,60,33,80,\r\n",
      "08/01/2009,00:00,24,14,14,\r\n",
      "09/01/2009,00:00,35,20,32,\r\n"
     ]
    }
   ],
   "source": [
    "!head data/PS4_1.csv"
   ]
  },
  {
   "cell_type": "code",
   "execution_count": null,
   "metadata": {},
   "outputs": [],
   "source": [
    "%%writefile utils/student_function/student_PS4_PANDAS_1.py\n",
    "## Ejercicio del estudiante\n",
    "\n",
    "import pandas as pd\n",
    "import numpy as np\n",
    "\n",
    "\n",
    "def ps4_1():\n",
    "    \n",
    "    \n",
    "    registros= \n",
    "    cols= \n",
    "    menor= \n",
    "    memoria= \n",
    "    maximo=\n",
    "    \n",
    "    r=[registros,cols,menor,memoria,maximo] #respuesta\n",
    "    \n",
    "    \n",
    "    \n",
    "    return r\n"
   ]
  },
  {
   "cell_type": "code",
   "execution_count": null,
   "metadata": {},
   "outputs": [],
   "source": [
    "!./run CHECK_SOLUTION PS4_PANDAS_1"
   ]
  },
  {
   "cell_type": "markdown",
   "metadata": {},
   "source": [
    "## Problema 2\n",
    "\n",
    "Usando el set anterior, retornar el siguiente arreglo:\n",
    "\n",
    "* la media\n",
    "* la desviación estándar\n",
    "* el máximo\n",
    "* el mínimo\n",
    "* los tercer cuartiles (75%) \n",
    "\n",
    "\n",
    "para las  4 columnas disponibles (en el orden del archivo).\n"
   ]
  },
  {
   "cell_type": "code",
   "execution_count": null,
   "metadata": {},
   "outputs": [],
   "source": [
    "%%writefile utils/student_function/student_PS4_PANDAS_2.py\n",
    "## Ejercicio del estudiante\n",
    "\n",
    "import pandas as pd\n",
    "\n",
    "def ps4_2():\n",
    "    df=pd.read_csv(\"data/PS4_1.csv\" , parse_dates=True)\n",
    "    df.index = pd.to_datetime(df.Date)\n",
    "    del(df[\"Date\"])\n",
    "    del(df[\"Unnamed: 1\"])\n",
    "    \n",
    "    r=[]\n",
    "    Berri_media=\n",
    "    Berri_std=\n",
    "    Berri_max= \n",
    "    Berri_min= \n",
    "    Berri_75=\n",
    "    \n",
    "    Maiso1_media= \n",
    "    Maiso1_std= \n",
    "    Maiso1_max= \n",
    "    Maiso1_min= \n",
    "    Maiso1_75= \n",
    "    \n",
    "    \n",
    "    Maiso2_media= \n",
    "    Maiso2_std= \n",
    "    Maiso2_max= \n",
    "    Maiso2_min= \n",
    "    Maiso2_75= \n",
    "    \n",
    "    \n",
    "    Brebeuf_media= \n",
    "    Brebeuf_std= \n",
    "    Brebeuf_max= \n",
    "    Brebeuf_min= \n",
    "    Brebeuf_75= \n",
    "    \n",
    "    r+=[Berri_media,Berri_std, Berri_max,Berri_min, Berri_75]\n",
    "    r+=[Maiso1_media,Maiso1_std,Maiso1_max,Maiso1_min,Maiso1_75]\n",
    "    r+=[Maiso2_media,Maiso2_std,Maiso2_max,Maiso2_min ,Maiso2_75 ]\n",
    "    r+=[Brebeuf_media,Brebeuf_std,Brebeuf_max,Brebeuf_min,Brebeuf_75 ]\n",
    "    \n",
    "    return r\n",
    "    \n"
   ]
  },
  {
   "cell_type": "code",
   "execution_count": null,
   "metadata": {},
   "outputs": [],
   "source": [
    "!./run CHECK_SOLUTION PS4_PANDAS_2"
   ]
  },
  {
   "cell_type": "markdown",
   "metadata": {},
   "source": [
    "## Problema 3\n",
    "\n",
    "usando `PS4_2.data` el cual contiene un reporte meteorológico de la velocidad del viento en diferentes ciudades del mundo, obtener la velocidad media del viento en cada ciudad, para el mes de enero y retornarlo como un numpy array.\n",
    "\n",
    "ayuda: \n",
    "* use de separador: '\\s+' al leer el archivo\n",
    "* recuerde corregir las fechas (los datos fueron tomados en 1961, no 2061)\n",
    "* puede retornar los valores del resultado como un array usando el metodo `.values` directamente en la serie"
   ]
  },
  {
   "cell_type": "code",
   "execution_count": 2,
   "metadata": {},
   "outputs": [
    {
     "name": "stdout",
     "output_type": "stream",
     "text": [
      "\r\n",
      "Yr Mo Dy   RPT   VAL   ROS   KIL   SHA   BIR   DUB   CLA   MUL   CLO   BEL   MAL\r\n",
      "61  1  1 15.04 14.96 13.17  9.29   NaN  9.87 13.67 10.25 10.83 12.58 18.50 15.04\r\n",
      "61  1  2 14.71   NaN 10.83  6.50 12.62  7.67 11.50 10.04  9.79  9.67 17.54 13.83\r\n",
      "61  1  3 18.50 16.88 12.33 10.13 11.17  6.17 11.25   NaN  8.50  7.67 12.75 12.71\r\n",
      "61  1  4 10.58  6.63 11.75  4.58  4.54  2.88  8.63  1.79  5.83  5.88  5.46 10.88\r\n",
      "61  1  5 13.33 13.25 11.42  6.17 10.71  8.21 11.92  6.54 10.92 10.34 12.92 11.83\r\n",
      "61  1  6 13.21  8.12  9.96  6.67  5.37  4.50 10.67  4.42  7.17  7.50  8.12 13.17\r\n",
      "61  1  7 13.50 14.29  9.50  4.96 12.29  8.33  9.17  9.29  7.58  7.96 13.96 13.79\r\n",
      "61  1  8 10.96  9.75  7.62  5.91  9.62  7.29 14.29  7.62  9.25 10.46 16.62 16.46\r\n"
     ]
    }
   ],
   "source": [
    "!head data/PS4_2.data"
   ]
  },
  {
   "cell_type": "code",
   "execution_count": null,
   "metadata": {},
   "outputs": [],
   "source": [
    "%%writefile utils/student_function/student_PS4_PANDAS_3.py\n",
    "## Ejercicio del estudiante\n",
    "\n",
    "import pandas as pd\n",
    "\n",
    "def ps4_3():\n",
    "    \n",
    "    import datetime\n",
    "    def fix_century(x): #ayuda \n",
    "        year = x.year - 100 if x.year > 1989 else x.year\n",
    "        return datetime.date(year, x.month, x.day)\n",
    "\n",
    "    "
   ]
  },
  {
   "cell_type": "code",
   "execution_count": null,
   "metadata": {},
   "outputs": [],
   "source": [
    "!./run CHECK_SOLUTION PS4_PANDAS_3"
   ]
  },
  {
   "cell_type": "markdown",
   "metadata": {},
   "source": [
    "## Problema 4\n",
    "\n",
    "usando `PS4_2.data` cree una submestra mensual de las medias y luego a esta, agregarle la media y desviación  estandar (agg) para una ventana de 20 meses (rolling), retornarlas como un dataframe en dicho orden eliminando los datos `NaN`"
   ]
  },
  {
   "cell_type": "code",
   "execution_count": null,
   "metadata": {},
   "outputs": [],
   "source": [
    "%%writefile utils/student_function/student_PS4_PANDAS_4.py\n",
    "## Ejercicio del estudiante\n",
    "\n",
    "import pandas as pd \n",
    "\n",
    "def ps4_4():\n",
    "    import datetime\n",
    "    def fix_century(x):\n",
    "        year = x.year - 100 if x.year > 1989 else x.year\n",
    "        return datetime.date(year, x.month, x.day)\n",
    "\n",
    "    "
   ]
  },
  {
   "cell_type": "code",
   "execution_count": null,
   "metadata": {},
   "outputs": [],
   "source": [
    "!./run CHECK_SOLUTION PS4_PANDAS_4"
   ]
  }
 ],
 "metadata": {
  "kernelspec": {
   "display_name": "Python 2",
   "language": "python",
   "name": "python2"
  },
  "language_info": {
   "codemirror_mode": {
    "name": "ipython",
    "version": 2
   },
   "file_extension": ".py",
   "mimetype": "text/x-python",
   "name": "python",
   "nbconvert_exporter": "python",
   "pygments_lexer": "ipython2",
   "version": "2.7.14"
  }
 },
 "nbformat": 4,
 "nbformat_minor": 2
}
