{
 "cells": [
  {
   "cell_type": "markdown",
   "metadata": {},
   "source": [
    "# Matplotlib: ProblemSet\n",
    "\n",
    "\n",
    "- Para este Set se deben guardar las imagenes usando la siguiente instrucción:\n",
    "\n",
    "``` python\n",
    "\n",
    "plt.savefig(\"img/CEDULA_NumeralEjercicio.png\")\n",
    "\n",
    "#ejemplo:\n",
    "\n",
    "plt.savefig(\"img/1025468421_1.png\")\n",
    "```\n",
    "\n",
    "- enviar los resultados en un archivo comprimido que lleve por nombre su cédula al correro: correo@udea.edu.co \n",
    "\n",
    "- deadline **dd de mm de 2018**"
   ]
  },
  {
   "cell_type": "code",
   "execution_count": null,
   "metadata": {},
   "outputs": [],
   "source": [
    "import numpy as np\n",
    "import matplotlib.pyplot as plt\n",
    "\n",
    "%matplotlib inline"
   ]
  },
  {
   "cell_type": "markdown",
   "metadata": {},
   "source": [
    "## Problema 1\n",
    "\n",
    "Dado un conjunto de datos en un archivo, capturarlos e imprimir una gráfica de su histograma.\n",
    "\n",
    ">- darle nombre al grafico\n",
    ">- nombrar apropiadamente los ejes \n",
    "\n",
    "#### Solución"
   ]
  },
  {
   "cell_type": "code",
   "execution_count": null,
   "metadata": {},
   "outputs": [],
   "source": [
    "\n"
   ]
  },
  {
   "cell_type": "markdown",
   "metadata": {},
   "source": [
    "## Problema 2\n",
    "\n",
    "usando la serie de taylor centrada en 0 para la función seno, graficar el resultado de la suma parcial para 2, 5, 10 y 50 términos **Etiquetarlos**\n",
    "\n",
    "$$sin(x)=\\sum_{i=1}^{N} \\frac{(-1)^{n-1}X^{2n-1}}{(2n-1)!}$$\n",
    "\n",
    ">- darle nombre al grafico\n",
    ">- nombrar apropiadamente los ejes \n",
    ">- graficar entre (-20,-20) y (20,20)\n",
    "#### Solución"
   ]
  },
  {
   "cell_type": "code",
   "execution_count": null,
   "metadata": {},
   "outputs": [],
   "source": [
    "def seno(x, order):\n",
    "    \n"
   ]
  },
  {
   "cell_type": "markdown",
   "metadata": {},
   "source": [
    "## Problema 3\n",
    "realizar un método al que ingrese su cédula y capture el tercer dígito como a y el sexto como b, si alguno de ellos es 0 reemplazarlo por el siguiente hasta que encuentre un dígito apropiado. (si llega al último, continuar con el primero) usar dichos valores a y b para hacer una gráfica polar de la siguiente función:\n",
    "\n",
    " $$r=a+b cos (\\theta)$$\n",
    " \n",
    ">- asegurese de que la grafica se vea completa\n",
    ">- darle un titulo a la grafica\n"
   ]
  },
  {
   "cell_type": "code",
   "execution_count": null,
   "metadata": {},
   "outputs": [],
   "source": [
    "def valores(cc):\n",
    "    #su codigo aqui\n",
    "\n",
    "\n",
    "def grafica(a,b,theta): \n",
    "    #su codigo aqui\n",
    "    \n",
    "\n"
   ]
  },
  {
   "cell_type": "markdown",
   "metadata": {},
   "source": [
    "## Problema 4\n",
    "cargar una imagen cualquiera en formato png, graficar en un multiplot de 4 posiciones:\n",
    "en el subplot de la esquina superior izquierda, graficar la imagen original, en la superior derecha la imagen en escala de grises, es la esquina inferior izquierda la imagen en negativo y en la última graficar la imagen con interpolación bicúbica (bicubic) y usando el mapa de color “nipy_spectral”\n"
   ]
  },
  {
   "cell_type": "code",
   "execution_count": null,
   "metadata": {},
   "outputs": [],
   "source": []
  }
 ],
 "metadata": {
  "kernelspec": {
   "display_name": "Python 2",
   "language": "python",
   "name": "python2"
  },
  "language_info": {
   "codemirror_mode": {
    "name": "ipython",
    "version": 2
   },
   "file_extension": ".py",
   "mimetype": "text/x-python",
   "name": "python",
   "nbconvert_exporter": "python",
   "pygments_lexer": "ipython2",
   "version": "2.7.14"
  }
 },
 "nbformat": 4,
 "nbformat_minor": 2
}
