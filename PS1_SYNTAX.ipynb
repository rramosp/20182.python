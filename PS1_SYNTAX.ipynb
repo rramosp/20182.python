{
 "cells": [
  {
   "cell_type": "markdown",
   "metadata": {},
   "source": [
    "# Sintaxis: ProblemSet\n",
    "\n"
   ]
  },
  {
   "cell_type": "code",
   "execution_count": null,
   "metadata": {},
   "outputs": [],
   "source": [
    "from mooclib import *\n",
    "import inspect, urllib\n",
    "html, auth_code, userinfo = google_authenticate(PORT_NUMBER=8080)\n",
    "html"
   ]
  },
  {
   "cell_type": "markdown",
   "metadata": {},
   "source": [
    "## Problema 1\n",
    "\n",
    "Determine si un número de n dígitos ingresado por el usuario es un palíndromo, es decir si puede leerse igual de izquierda a derecha o de derecha a izquierda. (Retorne `True` en caso afirmativo y `False` en caso contrario) \n",
    "\n",
    "\n",
    "#### Solución:"
   ]
  },
  {
   "cell_type": "code",
   "execution_count": null,
   "metadata": {},
   "outputs": [],
   "source": [
    "%%writefile utils/student_function/student_PS1_SYNTAX_1.py\n",
    "## Ejercicio del estudiante\n",
    "\n",
    "def palindromo(n):\n",
    "    \n",
    "    \n",
    "\n",
    "\n"
   ]
  },
  {
   "cell_type": "code",
   "execution_count": null,
   "metadata": {},
   "outputs": [],
   "source": [
    "!./run CHECK_SOLUTION PS1_SYNTAX_1"
   ]
  },
  {
   "cell_type": "markdown",
   "metadata": {},
   "source": [
    "## Problema 2\n",
    "Escriba un metodo que retorne una lista donde se indique cuantas monedas hay que entregar para cualquier cantidad de cambio entre 1 y 99 centavos de dolar, usando únicamente monedas de 1, 10 y 25 centavos. La lista debe entregarse de la siguiente manera: \n",
    "\n",
    "|1|10|25|\n",
    "|------|------|------|\n",
    "|$n_1$|$n_{10}$|$n_{25}$|\n",
    "\n",
    "si el valor no está en el rango dado, debe retornarse `None` \n",
    "\n",
    "#### Solución:"
   ]
  },
  {
   "cell_type": "code",
   "execution_count": null,
   "metadata": {},
   "outputs": [],
   "source": [
    "%%writefile utils/student_function/student_PS1_SYNTAX_2.py\n",
    "## Ejercicio del estudiante\n",
    "\n",
    "def cambio(n):\n",
    "    \n",
    "    \n",
    "\n",
    "     \n",
    "    "
   ]
  },
  {
   "cell_type": "code",
   "execution_count": null,
   "metadata": {},
   "outputs": [],
   "source": [
    "!./run CHECK_SOLUTION PS1_SYNTAX_2"
   ]
  },
  {
   "cell_type": "markdown",
   "metadata": {},
   "source": [
    "## Problema 3\n",
    "\n",
    "Dada una cadena de caracteres, entregar una lista donde se retorne:\n",
    ">- en la primera casilla: verdadero si el caracter del medio es una vocal, falso en caso contrario \n",
    ">- en la segunda: el numero de vocales en la cadena\n",
    ">- en la tercera: el numero de consonantes\n",
    ">- en la ultima: la cadena de caracteres invertida (ej: perro, orrep)"
   ]
  },
  {
   "cell_type": "code",
   "execution_count": null,
   "metadata": {},
   "outputs": [],
   "source": [
    "%%writefile utils/student_function/student_PS1_SYNTAX_3.py\n",
    "## Ejercicio del estudiante\n",
    "\n",
    "def cadena(s):\n",
    "    \n",
    "    \n"
   ]
  },
  {
   "cell_type": "code",
   "execution_count": null,
   "metadata": {},
   "outputs": [],
   "source": [
    "!./run CHECK_SOLUTION PS1_SYNTAX_3"
   ]
  },
  {
   "cell_type": "markdown",
   "metadata": {},
   "source": [
    "## Problema 4\n",
    "\n",
    "Elabore un método para calcular el n-ésimo término de la sucesión de fibonacci: \n",
    "\n",
    "$$ f_n = f_{n-1}+f_{n-2}$$\n",
    "\n",
    "Donde $$f_0=0 \\:\\:\\text{ y }\\:\\:f_1=1 $$ así:   $$f_2=1+0=1$$ $$f_3=1+1=2$$  $$f_4=2+1=3$$ y así sucesivamente\n",
    "\n",
    "#### Solución"
   ]
  },
  {
   "cell_type": "code",
   "execution_count": null,
   "metadata": {},
   "outputs": [],
   "source": [
    "%%writefile utils/student_function/student_PS1_SYNTAX_4.py\n",
    "## Ejercicio del estudiante\n",
    "\n",
    "\n",
    "def fibonacci(n):\n",
    "    f_1=1\n",
    "    f_2=1\n",
    "    suma=0\n",
    "    "
   ]
  },
  {
   "cell_type": "code",
   "execution_count": null,
   "metadata": {},
   "outputs": [],
   "source": [
    "!./run CHECK_SOLUTION PS1_SYNTAX_4"
   ]
  },
  {
   "cell_type": "markdown",
   "metadata": {},
   "source": [
    "## Problema 5\n",
    "\n",
    "Elaborar un método que arroje `True`  si el numero ingresado es perfecto, `False` en caso contrario.\n",
    "\n",
    ">- números perfectos: https://es.wikipedia.org/wiki/N%C3%BAmero_perfecto \n",
    "\n",
    "\n",
    "#### Solución"
   ]
  },
  {
   "cell_type": "code",
   "execution_count": null,
   "metadata": {},
   "outputs": [],
   "source": [
    "%%writefile utils/student_function/student_PS1_SYNTAX_5.py\n",
    "## Ejercicio del estudiante\n",
    "\n",
    "\n",
    "\n",
    "def perfecto(n):\n",
    "    \n"
   ]
  },
  {
   "cell_type": "code",
   "execution_count": null,
   "metadata": {},
   "outputs": [],
   "source": [
    "!./run CHECK_SOLUTION PS1_SYNTAX_5"
   ]
  }
 ],
 "metadata": {
  "kernelspec": {
   "display_name": "Python 2",
   "language": "python",
   "name": "python2"
  },
  "language_info": {
   "codemirror_mode": {
    "name": "ipython",
    "version": 2
   },
   "file_extension": ".py",
   "mimetype": "text/x-python",
   "name": "python",
   "nbconvert_exporter": "python",
   "pygments_lexer": "ipython2",
   "version": "2.7.14"
  }
 },
 "nbformat": 4,
 "nbformat_minor": 2
}
