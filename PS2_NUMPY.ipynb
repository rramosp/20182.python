{
 "cells": [
  {
   "cell_type": "markdown",
   "metadata": {},
   "source": [
    "# Numpy: ProblemSet"
   ]
  },
  {
   "cell_type": "code",
   "execution_count": null,
   "metadata": {},
   "outputs": [],
   "source": [
    "from mooclib import *\n",
    "import numpy as np #ya se ha importado numpy\n",
    "import inspect, urllib\n",
    "html, auth_code, userinfo = google_authenticate(PORT_NUMBER=8080)\n",
    "html"
   ]
  },
  {
   "cell_type": "markdown",
   "metadata": {},
   "source": [
    "## Problema 1\n",
    "\n",
    "Dados dos arreglos X y Y, construir la matriz de Cauchy $$C\\:\\:[ C_{ij}=\\:\\: \\frac{1}{X_i-Y_j} ]$$\n",
    "\n",
    "retornar el determinante de la matriz\n",
    "\n",
    ">- Matriz de Cauchy: https://en.wikipedia.org/wiki/Cauchy_matrix , las entradas de la matriz, son el resultado de la resta de los arreglos en la posición que correspondiente, donde las Filas equivalen a X y las columnas a Y. Asegurese de que no realice divisiones por 0. (Pista, consulte la función substract.outer de numpy) \n",
    "\n",
    "#### Solución:"
   ]
  },
  {
   "cell_type": "code",
   "execution_count": null,
   "metadata": {},
   "outputs": [],
   "source": [
    "%%writefile utils/student_function/student_PS2_NUMPY_1.py\n",
    "## Ejercicio del estudiante\n",
    "\n",
    "import numpy as np \n",
    "\n",
    "def cauchy(X,Y):\n",
    "   \n",
    "\n"
   ]
  },
  {
   "cell_type": "code",
   "execution_count": null,
   "metadata": {},
   "outputs": [],
   "source": [
    "!./run CHECK_SOLUTION PS2_NUMPY_1"
   ]
  },
  {
   "cell_type": "markdown",
   "metadata": {},
   "source": [
    "## Problema 2\n",
    "\n",
    "Dado un arreglo X, hallar el valor más cercano a un escalar dado V, retornar su indice en el arreglo  \n",
    "\n",
    "#### Solución"
   ]
  },
  {
   "cell_type": "code",
   "execution_count": null,
   "metadata": {},
   "outputs": [],
   "source": [
    "%%writefile utils/student_function/student_PS2_NUMPY_2.py\n",
    "## Ejercicio del estudiante\n",
    "\n",
    "import numpy as np \n",
    "\n",
    "def minimo(X,v):\n",
    "    \n",
    "    \n"
   ]
  },
  {
   "cell_type": "code",
   "execution_count": null,
   "metadata": {},
   "outputs": [],
   "source": [
    "!./run CHECK_SOLUTION PS2_NUMPY_2"
   ]
  },
  {
   "cell_type": "markdown",
   "metadata": {},
   "source": [
    "## Problema 3\n",
    "\n",
    "Dada una matriz, retornar otra en la que se le reste a cada componente, la media de su respectiva fila.\n",
    "\n",
    "#### Solución"
   ]
  },
  {
   "cell_type": "code",
   "execution_count": null,
   "metadata": {},
   "outputs": [],
   "source": [
    "%%writefile utils/student_function/student_PS2_NUMPY_3.py\n",
    "## Ejercicio del estudiante\n",
    "\n",
    "import numpy as np\n",
    "\n",
    "\n",
    "def media(X):\n",
    "\n"
   ]
  },
  {
   "cell_type": "code",
   "execution_count": null,
   "metadata": {},
   "outputs": [],
   "source": [
    "!./run CHECK_SOLUTION PS2_NUMPY_3"
   ]
  },
  {
   "cell_type": "markdown",
   "metadata": {},
   "source": [
    "## Problema 4\n",
    "\n",
    "Retorne en un arreglo, la diagonal del producto de dos matrices dadas.\n",
    "\n",
    "#### Solución"
   ]
  },
  {
   "cell_type": "code",
   "execution_count": null,
   "metadata": {},
   "outputs": [],
   "source": [
    "#%%writefile utils/student_function/student_PS2_NUMPY_4.py\n",
    "## Ejercicio del estudiante\n",
    "\n",
    "import numpy as np \n",
    "def diagonal(A,B):\n",
    "    \n",
    "\n"
   ]
  },
  {
   "cell_type": "code",
   "execution_count": null,
   "metadata": {},
   "outputs": [],
   "source": [
    "!./run CHECK_SOLUTION PS2_NUMPY_4"
   ]
  },
  {
   "cell_type": "markdown",
   "metadata": {},
   "source": [
    "## Problema 5\n",
    "\n",
    "Considere un arreglo de tamaño arbitrario, desarrolle un método para retornar un sub arreglo de tamaño dado y centrado en un valor deseado.\n",
    "\n",
    "#### Solución"
   ]
  },
  {
   "cell_type": "code",
   "execution_count": null,
   "metadata": {},
   "outputs": [],
   "source": [
    "%%writefile utils/student_function/student_PS2_NUMPY_5.py\n",
    "## Ejercicio del estudiante\n",
    "\n",
    "import numpy as np \n",
    "\n",
    "def subArray(X,c,l): #X: arreglo, c: centro, l, longitud\n",
    "\n"
   ]
  },
  {
   "cell_type": "code",
   "execution_count": null,
   "metadata": {},
   "outputs": [],
   "source": [
    "!./run CHECK_SOLUTION PS2_NUMPY_5"
   ]
  }
 ],
 "metadata": {
  "kernelspec": {
   "display_name": "Python 2",
   "language": "python",
   "name": "python2"
  },
  "language_info": {
   "codemirror_mode": {
    "name": "ipython",
    "version": 2
   },
   "file_extension": ".py",
   "mimetype": "text/x-python",
   "name": "python",
   "nbconvert_exporter": "python",
   "pygments_lexer": "ipython2",
   "version": "2.7.14"
  }
 },
 "nbformat": 4,
 "nbformat_minor": 2
}
